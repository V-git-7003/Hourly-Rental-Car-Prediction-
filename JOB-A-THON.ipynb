{
 "cells": [
  {
   "cell_type": "code",
   "execution_count": 1,
   "id": "b579e31f",
   "metadata": {},
   "outputs": [],
   "source": [
    "import pandas as pd\n",
    "import seaborn as sns\n",
    "from pycaret.regression import *\n",
    "import pycaret\n",
    "import numpy as np\n",
    "from sklearn.tree import DecisionTreeRegressor\n",
    "from sklearn.model_selection import train_test_split\n"
   ]
  },
  {
   "cell_type": "markdown",
   "id": "aa25522c",
   "metadata": {},
   "source": [
    "## EDA"
   ]
  },
  {
   "cell_type": "code",
   "execution_count": 2,
   "id": "5ae68977",
   "metadata": {},
   "outputs": [],
   "source": [
    "df=pd.read_csv(\"train_E1GspfA.csv\")"
   ]
  },
  {
   "cell_type": "code",
   "execution_count": 3,
   "id": "bb316aaa",
   "metadata": {
    "scrolled": true
   },
   "outputs": [
    {
     "name": "stdout",
     "output_type": "stream",
     "text": [
      "<class 'pandas.core.frame.DataFrame'>\n",
      "RangeIndex: 18247 entries, 0 to 18246\n",
      "Data columns (total 3 columns):\n",
      " #   Column  Non-Null Count  Dtype \n",
      "---  ------  --------------  ----- \n",
      " 0   date    18247 non-null  object\n",
      " 1   hour    18247 non-null  int64 \n",
      " 2   demand  18247 non-null  int64 \n",
      "dtypes: int64(2), object(1)\n",
      "memory usage: 427.8+ KB\n"
     ]
    }
   ],
   "source": [
    "df.info()"
   ]
  },
  {
   "cell_type": "code",
   "execution_count": 4,
   "id": "b8659a27",
   "metadata": {
    "scrolled": true
   },
   "outputs": [
    {
     "data": {
      "text/plain": [
       "date      object\n",
       "hour       int64\n",
       "demand     int64\n",
       "dtype: object"
      ]
     },
     "execution_count": 4,
     "metadata": {},
     "output_type": "execute_result"
    }
   ],
   "source": [
    "df.dtypes"
   ]
  },
  {
   "cell_type": "code",
   "execution_count": 5,
   "id": "bf5e0451",
   "metadata": {},
   "outputs": [
    {
     "data": {
      "text/html": [
       "<div>\n",
       "<style scoped>\n",
       "    .dataframe tbody tr th:only-of-type {\n",
       "        vertical-align: middle;\n",
       "    }\n",
       "\n",
       "    .dataframe tbody tr th {\n",
       "        vertical-align: top;\n",
       "    }\n",
       "\n",
       "    .dataframe thead th {\n",
       "        text-align: right;\n",
       "    }\n",
       "</style>\n",
       "<table border=\"1\" class=\"dataframe\">\n",
       "  <thead>\n",
       "    <tr style=\"text-align: right;\">\n",
       "      <th></th>\n",
       "      <th>hour</th>\n",
       "      <th>demand</th>\n",
       "    </tr>\n",
       "  </thead>\n",
       "  <tbody>\n",
       "    <tr>\n",
       "      <th>count</th>\n",
       "      <td>18247.000000</td>\n",
       "      <td>18247.000000</td>\n",
       "    </tr>\n",
       "    <tr>\n",
       "      <th>mean</th>\n",
       "      <td>12.614731</td>\n",
       "      <td>73.991451</td>\n",
       "    </tr>\n",
       "    <tr>\n",
       "      <th>std</th>\n",
       "      <td>6.544963</td>\n",
       "      <td>41.678988</td>\n",
       "    </tr>\n",
       "    <tr>\n",
       "      <th>min</th>\n",
       "      <td>0.000000</td>\n",
       "      <td>1.000000</td>\n",
       "    </tr>\n",
       "    <tr>\n",
       "      <th>25%</th>\n",
       "      <td>8.000000</td>\n",
       "      <td>43.000000</td>\n",
       "    </tr>\n",
       "    <tr>\n",
       "      <th>50%</th>\n",
       "      <td>13.000000</td>\n",
       "      <td>71.000000</td>\n",
       "    </tr>\n",
       "    <tr>\n",
       "      <th>75%</th>\n",
       "      <td>18.000000</td>\n",
       "      <td>98.000000</td>\n",
       "    </tr>\n",
       "    <tr>\n",
       "      <th>max</th>\n",
       "      <td>23.000000</td>\n",
       "      <td>379.000000</td>\n",
       "    </tr>\n",
       "  </tbody>\n",
       "</table>\n",
       "</div>"
      ],
      "text/plain": [
       "               hour        demand\n",
       "count  18247.000000  18247.000000\n",
       "mean      12.614731     73.991451\n",
       "std        6.544963     41.678988\n",
       "min        0.000000      1.000000\n",
       "25%        8.000000     43.000000\n",
       "50%       13.000000     71.000000\n",
       "75%       18.000000     98.000000\n",
       "max       23.000000    379.000000"
      ]
     },
     "execution_count": 5,
     "metadata": {},
     "output_type": "execute_result"
    }
   ],
   "source": [
    "df.describe()"
   ]
  },
  {
   "cell_type": "code",
   "execution_count": 6,
   "id": "228953fe",
   "metadata": {
    "scrolled": true
   },
   "outputs": [
    {
     "data": {
      "text/html": [
       "<div>\n",
       "<style scoped>\n",
       "    .dataframe tbody tr th:only-of-type {\n",
       "        vertical-align: middle;\n",
       "    }\n",
       "\n",
       "    .dataframe tbody tr th {\n",
       "        vertical-align: top;\n",
       "    }\n",
       "\n",
       "    .dataframe thead th {\n",
       "        text-align: right;\n",
       "    }\n",
       "</style>\n",
       "<table border=\"1\" class=\"dataframe\">\n",
       "  <thead>\n",
       "    <tr style=\"text-align: right;\">\n",
       "      <th></th>\n",
       "      <th>date</th>\n",
       "      <th>hour</th>\n",
       "      <th>demand</th>\n",
       "    </tr>\n",
       "  </thead>\n",
       "  <tbody>\n",
       "    <tr>\n",
       "      <th>0</th>\n",
       "      <td>2018-08-18</td>\n",
       "      <td>9</td>\n",
       "      <td>91</td>\n",
       "    </tr>\n",
       "    <tr>\n",
       "      <th>1</th>\n",
       "      <td>2018-08-18</td>\n",
       "      <td>10</td>\n",
       "      <td>21</td>\n",
       "    </tr>\n",
       "    <tr>\n",
       "      <th>2</th>\n",
       "      <td>2018-08-18</td>\n",
       "      <td>13</td>\n",
       "      <td>23</td>\n",
       "    </tr>\n",
       "    <tr>\n",
       "      <th>3</th>\n",
       "      <td>2018-08-18</td>\n",
       "      <td>14</td>\n",
       "      <td>104</td>\n",
       "    </tr>\n",
       "    <tr>\n",
       "      <th>4</th>\n",
       "      <td>2018-08-18</td>\n",
       "      <td>15</td>\n",
       "      <td>81</td>\n",
       "    </tr>\n",
       "  </tbody>\n",
       "</table>\n",
       "</div>"
      ],
      "text/plain": [
       "         date  hour  demand\n",
       "0  2018-08-18     9      91\n",
       "1  2018-08-18    10      21\n",
       "2  2018-08-18    13      23\n",
       "3  2018-08-18    14     104\n",
       "4  2018-08-18    15      81"
      ]
     },
     "execution_count": 6,
     "metadata": {},
     "output_type": "execute_result"
    }
   ],
   "source": [
    "df.head()"
   ]
  },
  {
   "cell_type": "code",
   "execution_count": 7,
   "id": "85913d48",
   "metadata": {
    "scrolled": true
   },
   "outputs": [
    {
     "data": {
      "image/png": "[encoded data removed]",
      "text/plain": [
       "<Figure size 432x288 with 1 Axes>"
      ]
     },
     "metadata": {},
     "output_type": "display_data"
    }
   ],
   "source": [
    "# Demand on hourly basis\n",
    "sns.set_theme(style=\"whitegrid\")\n",
    "ax = sns.barplot(x=\"hour\", y=\"demand\", data=df)"
   ]
  },
  {
   "cell_type": "code",
   "execution_count": 8,
   "id": "1411340d",
   "metadata": {
    "scrolled": true
   },
   "outputs": [
    {
     "data": {
      "image/png": "[encoded data removed]",
      "text/plain": [
       "<Figure size 432x288 with 1 Axes>"
      ]
     },
     "metadata": {},
     "output_type": "display_data"
    }
   ],
   "source": [
    "# demand on the basis of date \n",
    "sns.set_theme(style=\"whitegrid\")\n",
    "ax = sns.barplot(x=\"date\", y=\"demand\", data=df)"
   ]
  },
  {
   "cell_type": "code",
   "execution_count": 13,
   "id": "715b3b65",
   "metadata": {},
   "outputs": [
    {
     "data": {
      "image/png": "[encoded data removed]",
      "text/plain": [
       "<Figure size 432x288 with 1 Axes>"
      ]
     },
     "metadata": {},
     "output_type": "display_data"
    }
   ],
   "source": [
    "# The data is right skewed\n",
    "sns.set_theme(style=\"whitegrid\")\n",
    "ax = sns.boxplot(x=df[\"demand\"])"
   ]
  },
  {
   "cell_type": "code",
   "execution_count": 15,
   "id": "c29e197e",
   "metadata": {
    "scrolled": true
   },
   "outputs": [
    {
     "data": {
      "text/plain": [
       "<seaborn.axisgrid.FacetGrid at 0x22a464423d0>"
      ]
     },
     "execution_count": 15,
     "metadata": {},
     "output_type": "execute_result"
    },
    {
     "data": {
      "image/png": "[encoded data removed]",
      "text/plain": [
       "<Figure size 360x360 with 1 Axes>"
      ]
     },
     "metadata": {},
     "output_type": "display_data"
    }
   ],
   "source": [
    "# Demand distribution is not a normal distribution (likely non-linear approach)\n",
    "sns.set_theme(style=\"whitegrid\")\n",
    "sns.displot(df, x=\"demand\", binwidth=10)"
   ]
  },
  {
   "cell_type": "code",
   "execution_count": 88,
   "id": "c3488b5d",
   "metadata": {},
   "outputs": [
    {
     "data": {
      "text/plain": [
       "201"
      ]
     },
     "execution_count": 88,
     "metadata": {},
     "output_type": "execute_result"
    }
   ],
   "source": [
    "# maximum demand count/frequency \n",
    "demand_count['count'].max()"
   ]
  },
  {
   "cell_type": "code",
   "execution_count": 89,
   "id": "66a70745",
   "metadata": {
    "scrolled": true
   },
   "outputs": [
    {
     "data": {
      "text/html": [
       "<div>\n",
       "<style scoped>\n",
       "    .dataframe tbody tr th:only-of-type {\n",
       "        vertical-align: middle;\n",
       "    }\n",
       "\n",
       "    .dataframe tbody tr th {\n",
       "        vertical-align: top;\n",
       "    }\n",
       "\n",
       "    .dataframe thead th {\n",
       "        text-align: right;\n",
       "    }\n",
       "</style>\n",
       "<table border=\"1\" class=\"dataframe\">\n",
       "  <thead>\n",
       "    <tr style=\"text-align: right;\">\n",
       "      <th></th>\n",
       "      <th>demand</th>\n",
       "      <th>count</th>\n",
       "    </tr>\n",
       "  </thead>\n",
       "  <tbody>\n",
       "    <tr>\n",
       "      <th>0</th>\n",
       "      <td>93</td>\n",
       "      <td>201</td>\n",
       "    </tr>\n",
       "  </tbody>\n",
       "</table>\n",
       "</div>"
      ],
      "text/plain": [
       "   demand  count\n",
       "0      93    201"
      ]
     },
     "execution_count": 89,
     "metadata": {},
     "output_type": "execute_result"
    }
   ],
   "source": [
    "# demand that has appeared maximum number of times\n",
    "demand_count[demand_count['count']==201]"
   ]
  },
  {
   "cell_type": "code",
   "execution_count": 32,
   "id": "67ef6b13",
   "metadata": {
    "scrolled": false
   },
   "outputs": [
    {
     "data": {
      "text/plain": [
       "<AxesSubplot:xlabel='hour', ylabel='demand'>"
      ]
     },
     "execution_count": 32,
     "metadata": {},
     "output_type": "execute_result"
    },
    {
     "data": {
      "image/png": "[encoded data removed]",
      "text/plain": [
       "<Figure size 432x288 with 1 Axes>"
      ]
     },
     "metadata": {},
     "output_type": "display_data"
    }
   ],
   "source": [
    "# actual demand vs hour \n",
    "sns.scatterplot(data=df, x=\"hour\", y=\"demand\")"
   ]
  },
  {
   "cell_type": "markdown",
   "id": "9951bf20",
   "metadata": {},
   "source": [
    "## Feature Engineering"
   ]
  },
  {
   "cell_type": "code",
   "execution_count": 40,
   "id": "34609210",
   "metadata": {},
   "outputs": [],
   "source": [
    "# 0 is monday and 6 is sunday, others have respective values.\n",
    "df['weekday']=pd.to_datetime(df['date'],format = '%Y-%m-%d').dt.weekday"
   ]
  },
  {
   "cell_type": "code",
   "execution_count": 55,
   "id": "4befb5fb",
   "metadata": {},
   "outputs": [],
   "source": [
    "df['month']=pd.to_datetime(df['date'],format = '%Y-%m-%d').dt.month"
   ]
  },
  {
   "cell_type": "code",
   "execution_count": 56,
   "id": "285a4900",
   "metadata": {},
   "outputs": [],
   "source": [
    "df['year']=pd.to_datetime(df['date'],format = '%Y-%m-%d').dt.year"
   ]
  },
  {
   "cell_type": "code",
   "execution_count": 57,
   "id": "a7804202",
   "metadata": {},
   "outputs": [],
   "source": [
    "df['week']=pd.to_datetime(df['date'],format = '%Y-%m-%d').dt.week"
   ]
  },
  {
   "cell_type": "code",
   "execution_count": 61,
   "id": "c91161b8",
   "metadata": {
    "scrolled": true
   },
   "outputs": [
    {
     "data": {
      "text/html": [
       "<div>\n",
       "<style scoped>\n",
       "    .dataframe tbody tr th:only-of-type {\n",
       "        vertical-align: middle;\n",
       "    }\n",
       "\n",
       "    .dataframe tbody tr th {\n",
       "        vertical-align: top;\n",
       "    }\n",
       "\n",
       "    .dataframe thead th {\n",
       "        text-align: right;\n",
       "    }\n",
       "</style>\n",
       "<table border=\"1\" class=\"dataframe\">\n",
       "  <thead>\n",
       "    <tr style=\"text-align: right;\">\n",
       "      <th></th>\n",
       "      <th>date</th>\n",
       "      <th>hour</th>\n",
       "      <th>demand</th>\n",
       "      <th>weekday</th>\n",
       "      <th>month</th>\n",
       "      <th>year</th>\n",
       "      <th>week</th>\n",
       "    </tr>\n",
       "  </thead>\n",
       "  <tbody>\n",
       "    <tr>\n",
       "      <th>0</th>\n",
       "      <td>2018-08-18</td>\n",
       "      <td>9</td>\n",
       "      <td>91</td>\n",
       "      <td>5</td>\n",
       "      <td>8</td>\n",
       "      <td>2018</td>\n",
       "      <td>33</td>\n",
       "    </tr>\n",
       "    <tr>\n",
       "      <th>1</th>\n",
       "      <td>2018-08-18</td>\n",
       "      <td>10</td>\n",
       "      <td>21</td>\n",
       "      <td>5</td>\n",
       "      <td>8</td>\n",
       "      <td>2018</td>\n",
       "      <td>33</td>\n",
       "    </tr>\n",
       "    <tr>\n",
       "      <th>2</th>\n",
       "      <td>2018-08-18</td>\n",
       "      <td>13</td>\n",
       "      <td>23</td>\n",
       "      <td>5</td>\n",
       "      <td>8</td>\n",
       "      <td>2018</td>\n",
       "      <td>33</td>\n",
       "    </tr>\n",
       "    <tr>\n",
       "      <th>3</th>\n",
       "      <td>2018-08-18</td>\n",
       "      <td>14</td>\n",
       "      <td>104</td>\n",
       "      <td>5</td>\n",
       "      <td>8</td>\n",
       "      <td>2018</td>\n",
       "      <td>33</td>\n",
       "    </tr>\n",
       "    <tr>\n",
       "      <th>4</th>\n",
       "      <td>2018-08-18</td>\n",
       "      <td>15</td>\n",
       "      <td>81</td>\n",
       "      <td>5</td>\n",
       "      <td>8</td>\n",
       "      <td>2018</td>\n",
       "      <td>33</td>\n",
       "    </tr>\n",
       "  </tbody>\n",
       "</table>\n",
       "</div>"
      ],
      "text/plain": [
       "         date  hour  demand  weekday  month  year  week\n",
       "0  2018-08-18     9      91        5      8  2018    33\n",
       "1  2018-08-18    10      21        5      8  2018    33\n",
       "2  2018-08-18    13      23        5      8  2018    33\n",
       "3  2018-08-18    14     104        5      8  2018    33\n",
       "4  2018-08-18    15      81        5      8  2018    33"
      ]
     },
     "execution_count": 61,
     "metadata": {},
     "output_type": "execute_result"
    }
   ],
   "source": [
    "df.head()"
   ]
  },
  {
   "cell_type": "markdown",
   "id": "368e4931",
   "metadata": {},
   "source": [
    "## EDA 2"
   ]
  },
  {
   "cell_type": "code",
   "execution_count": 82,
   "id": "5f2b99c7",
   "metadata": {
    "scrolled": true
   },
   "outputs": [],
   "source": [
    "# calculating the demand with max frequency\n",
    "demand_count=df[\"demand\"].value_counts().reset_index().rename({'index':'demand','demand':'count'},axis=1).head()"
   ]
  },
  {
   "cell_type": "code",
   "execution_count": 87,
   "id": "b9494e0f",
   "metadata": {},
   "outputs": [
    {
     "data": {
      "text/html": [
       "<div>\n",
       "<style scoped>\n",
       "    .dataframe tbody tr th:only-of-type {\n",
       "        vertical-align: middle;\n",
       "    }\n",
       "\n",
       "    .dataframe tbody tr th {\n",
       "        vertical-align: top;\n",
       "    }\n",
       "\n",
       "    .dataframe thead th {\n",
       "        text-align: right;\n",
       "    }\n",
       "</style>\n",
       "<table border=\"1\" class=\"dataframe\">\n",
       "  <thead>\n",
       "    <tr style=\"text-align: right;\">\n",
       "      <th></th>\n",
       "      <th>demand</th>\n",
       "      <th>count</th>\n",
       "    </tr>\n",
       "  </thead>\n",
       "  <tbody>\n",
       "    <tr>\n",
       "      <th>0</th>\n",
       "      <td>93</td>\n",
       "      <td>201</td>\n",
       "    </tr>\n",
       "    <tr>\n",
       "      <th>1</th>\n",
       "      <td>100</td>\n",
       "      <td>197</td>\n",
       "    </tr>\n",
       "    <tr>\n",
       "      <th>2</th>\n",
       "      <td>87</td>\n",
       "      <td>192</td>\n",
       "    </tr>\n",
       "    <tr>\n",
       "      <th>3</th>\n",
       "      <td>76</td>\n",
       "      <td>190</td>\n",
       "    </tr>\n",
       "    <tr>\n",
       "      <th>4</th>\n",
       "      <td>56</td>\n",
       "      <td>188</td>\n",
       "    </tr>\n",
       "  </tbody>\n",
       "</table>\n",
       "</div>"
      ],
      "text/plain": [
       "   demand  count\n",
       "0      93    201\n",
       "1     100    197\n",
       "2      87    192\n",
       "3      76    190\n",
       "4      56    188"
      ]
     },
     "execution_count": 87,
     "metadata": {},
     "output_type": "execute_result"
    }
   ],
   "source": [
    "demand_count.head()"
   ]
  },
  {
   "cell_type": "code",
   "execution_count": 93,
   "id": "b061702d",
   "metadata": {},
   "outputs": [
    {
     "data": {
      "text/plain": [
       "2    39\n",
       "4    36\n",
       "6    34\n",
       "0    27\n",
       "1    25\n",
       "5    21\n",
       "3    19\n",
       "Name: weekday, dtype: int64"
      ]
     },
     "execution_count": 93,
     "metadata": {},
     "output_type": "execute_result"
    }
   ],
   "source": [
    "# The demand with maximum frequency is applied mostly on Wed\n",
    "# This implies there are days with more demands but Wednesday's demands are more consistent \n",
    "# as they have 201 demands with 93 demands for car\n",
    "# Wednesday are most consistent demand days\n",
    "df[df['demand']==93]['weekday'].value_counts()"
   ]
  },
  {
   "cell_type": "code",
   "execution_count": 68,
   "id": "88ab45dc",
   "metadata": {
    "scrolled": true
   },
   "outputs": [
    {
     "name": "stdout",
     "output_type": "stream",
     "text": [
      "Index(['date', 'hour', 'demand', 'weekday', 'month', 'year', 'week'], dtype='object')\n"
     ]
    }
   ],
   "source": [
    "# Taking only the numerical cols\n",
    "print(df.columns)\n",
    "numerical=['hour', 'demand', 'weekday', 'month', 'year', 'week']"
   ]
  },
  {
   "cell_type": "code",
   "execution_count": 72,
   "id": "2e7c745e",
   "metadata": {},
   "outputs": [],
   "source": [
    "# Finding the correlation to make a heatmap\n",
    "correlation = df[numerical].corr()"
   ]
  },
  {
   "cell_type": "code",
   "execution_count": 73,
   "id": "0f996999",
   "metadata": {
    "scrolled": true
   },
   "outputs": [
    {
     "data": {
      "image/png": "[encoded data removed]",
      "text/plain": [
       "<Figure size 432x288 with 2 Axes>"
      ]
     },
     "metadata": {},
     "output_type": "display_data"
    }
   ],
   "source": [
    "sns.set_theme()\n",
    "ax = sns.heatmap(correlation)"
   ]
  },
  {
   "cell_type": "code",
   "execution_count": 74,
   "id": "c8505526",
   "metadata": {
    "scrolled": true
   },
   "outputs": [
    {
     "data": {
      "text/plain": [
       "<AxesSubplot:>"
      ]
     },
     "execution_count": 74,
     "metadata": {},
     "output_type": "execute_result"
    },
    {
     "data": {
      "image/png": "[encoded data removed]",
      "text/plain": [
       "<Figure size 432x288 with 2 Axes>"
      ]
     },
     "metadata": {},
     "output_type": "display_data"
    }
   ],
   "source": [
    "# Normalizing it by cols to retry correlation heatmap\n",
    "df_norm_col=(df[numerical]-df[numerical].mean())/df[numerical].std()\n",
    "correlation_norm=df_norm_col.corr()\n",
    "sns.heatmap(correlation_norm)\n",
    "#plt.show()"
   ]
  },
  {
   "cell_type": "code",
   "execution_count": 427,
   "id": "7721e3d7",
   "metadata": {},
   "outputs": [],
   "source": [
    "# Demand has no correlation to anything, implying a non-linear relationship."
   ]
  },
  {
   "cell_type": "code",
   "execution_count": 49,
   "id": "4f40f214",
   "metadata": {},
   "outputs": [],
   "source": [
    "# Relationship with weekdays to demand\n",
    "df_weekday=df['weekday'].value_counts().reset_index().rename({'index':'weekday','weekday':'demand frequency'},axis=1)"
   ]
  },
  {
   "cell_type": "code",
   "execution_count": 51,
   "id": "477884ed",
   "metadata": {
    "scrolled": true
   },
   "outputs": [
    {
     "data": {
      "text/plain": [
       "<AxesSubplot:xlabel='weekday', ylabel='demand frequency'>"
      ]
     },
     "execution_count": 51,
     "metadata": {},
     "output_type": "execute_result"
    },
    {
     "data": {
      "image/png": "[encoded data removed]",
      "text/plain": [
       "<Figure size 432x288 with 1 Axes>"
      ]
     },
     "metadata": {},
     "output_type": "display_data"
    }
   ],
   "source": [
    "sns.barplot(x='weekday',y='demand frequency',data=df_weekday)"
   ]
  },
  {
   "cell_type": "code",
   "execution_count": 53,
   "id": "a777ee0b",
   "metadata": {
    "scrolled": true
   },
   "outputs": [
    {
     "data": {
      "text/plain": [
       "<AxesSubplot:xlabel='weekday', ylabel='demand frequency'>"
      ]
     },
     "execution_count": 53,
     "metadata": {},
     "output_type": "execute_result"
    },
    {
     "data": {
      "image/png": "[encoded data removed]",
      "text/plain": [
       "<Figure size 432x288 with 1 Axes>"
      ]
     },
     "metadata": {},
     "output_type": "display_data"
    }
   ],
   "source": [
    "# The demand frequency is highest on Friday, Saturday and Sunday, respectively, with least demand on Thur.\n",
    "sns.scatterplot(x='weekday',y='demand frequency',data=df_weekday,palette=\"deep\")"
   ]
  },
  {
   "cell_type": "code",
   "execution_count": 95,
   "id": "e204846e",
   "metadata": {},
   "outputs": [],
   "source": [
    "# actual demand partioned by weekday\n",
    "actual_demand=df.groupby(['weekday'])['demand'].sum()"
   ]
  },
  {
   "cell_type": "code",
   "execution_count": 100,
   "id": "cf784347",
   "metadata": {},
   "outputs": [],
   "source": [
    "actual_demand=actual_demand.reset_index().rename({'weekday':'hours'},axis=1)"
   ]
  },
  {
   "cell_type": "code",
   "execution_count": 101,
   "id": "a906fed3",
   "metadata": {
    "scrolled": true
   },
   "outputs": [
    {
     "data": {
      "text/html": [
       "<div>\n",
       "<style scoped>\n",
       "    .dataframe tbody tr th:only-of-type {\n",
       "        vertical-align: middle;\n",
       "    }\n",
       "\n",
       "    .dataframe tbody tr th {\n",
       "        vertical-align: top;\n",
       "    }\n",
       "\n",
       "    .dataframe thead th {\n",
       "        text-align: right;\n",
       "    }\n",
       "</style>\n",
       "<table border=\"1\" class=\"dataframe\">\n",
       "  <thead>\n",
       "    <tr style=\"text-align: right;\">\n",
       "      <th></th>\n",
       "      <th>hours</th>\n",
       "      <th>demand</th>\n",
       "    </tr>\n",
       "  </thead>\n",
       "  <tbody>\n",
       "    <tr>\n",
       "      <th>0</th>\n",
       "      <td>0</td>\n",
       "      <td>178922</td>\n",
       "    </tr>\n",
       "    <tr>\n",
       "      <th>1</th>\n",
       "      <td>1</td>\n",
       "      <td>172576</td>\n",
       "    </tr>\n",
       "    <tr>\n",
       "      <th>2</th>\n",
       "      <td>2</td>\n",
       "      <td>173951</td>\n",
       "    </tr>\n",
       "    <tr>\n",
       "      <th>3</th>\n",
       "      <td>3</td>\n",
       "      <td>177813</td>\n",
       "    </tr>\n",
       "    <tr>\n",
       "      <th>4</th>\n",
       "      <td>4</td>\n",
       "      <td>202189</td>\n",
       "    </tr>\n",
       "    <tr>\n",
       "      <th>5</th>\n",
       "      <td>5</td>\n",
       "      <td>230654</td>\n",
       "    </tr>\n",
       "    <tr>\n",
       "      <th>6</th>\n",
       "      <td>6</td>\n",
       "      <td>214017</td>\n",
       "    </tr>\n",
       "  </tbody>\n",
       "</table>\n",
       "</div>"
      ],
      "text/plain": [
       "   hours  demand\n",
       "0      0  178922\n",
       "1      1  172576\n",
       "2      2  173951\n",
       "3      3  177813\n",
       "4      4  202189\n",
       "5      5  230654\n",
       "6      6  214017"
      ]
     },
     "execution_count": 101,
     "metadata": {},
     "output_type": "execute_result"
    }
   ],
   "source": [
    "actual_demand"
   ]
  },
  {
   "cell_type": "code",
   "execution_count": 102,
   "id": "b427dfb7",
   "metadata": {},
   "outputs": [
    {
     "data": {
      "text/plain": [
       "<AxesSubplot:xlabel='hours', ylabel='demand'>"
      ]
     },
     "execution_count": 102,
     "metadata": {},
     "output_type": "execute_result"
    },
    {
     "data": {
      "image/png": "[encoded data removed]",
      "text/plain": [
       "<Figure size 432x288 with 1 Axes>"
      ]
     },
     "metadata": {},
     "output_type": "display_data"
    }
   ],
   "source": [
    "# actual demand aggregated by the weekdays\n",
    "# The demand is highest on Saturdays followed by Sunday and then Friday\n",
    "# The least demand is on Tuesday\n",
    "sns.barplot(data=actual_demand,x='hours',y='demand')"
   ]
  },
  {
   "cell_type": "code",
   "execution_count": 18,
   "id": "5919210d",
   "metadata": {
    "scrolled": false
   },
   "outputs": [],
   "source": [
    "# counting hours frequency in the dataset \n",
    "df_hour=df['hour'].value_counts().reset_index()"
   ]
  },
  {
   "cell_type": "code",
   "execution_count": 103,
   "id": "00a809aa",
   "metadata": {
    "scrolled": true
   },
   "outputs": [],
   "source": [
    "df_hour.rename({'index':'hours','hour':'count'},axis=1,inplace=True)"
   ]
  },
  {
   "cell_type": "code",
   "execution_count": 106,
   "id": "afa09d51",
   "metadata": {},
   "outputs": [
    {
     "data": {
      "text/html": [
       "<div>\n",
       "<style scoped>\n",
       "    .dataframe tbody tr th:only-of-type {\n",
       "        vertical-align: middle;\n",
       "    }\n",
       "\n",
       "    .dataframe tbody tr th {\n",
       "        vertical-align: top;\n",
       "    }\n",
       "\n",
       "    .dataframe thead th {\n",
       "        text-align: right;\n",
       "    }\n",
       "</style>\n",
       "<table border=\"1\" class=\"dataframe\">\n",
       "  <thead>\n",
       "    <tr style=\"text-align: right;\">\n",
       "      <th></th>\n",
       "      <th>hours</th>\n",
       "      <th>count</th>\n",
       "    </tr>\n",
       "  </thead>\n",
       "  <tbody>\n",
       "    <tr>\n",
       "      <th>0</th>\n",
       "      <td>16</td>\n",
       "      <td>892</td>\n",
       "    </tr>\n",
       "    <tr>\n",
       "      <th>1</th>\n",
       "      <td>15</td>\n",
       "      <td>890</td>\n",
       "    </tr>\n",
       "    <tr>\n",
       "      <th>2</th>\n",
       "      <td>13</td>\n",
       "      <td>889</td>\n",
       "    </tr>\n",
       "    <tr>\n",
       "      <th>3</th>\n",
       "      <td>17</td>\n",
       "      <td>889</td>\n",
       "    </tr>\n",
       "    <tr>\n",
       "      <th>4</th>\n",
       "      <td>12</td>\n",
       "      <td>888</td>\n",
       "    </tr>\n",
       "    <tr>\n",
       "      <th>5</th>\n",
       "      <td>14</td>\n",
       "      <td>886</td>\n",
       "    </tr>\n",
       "    <tr>\n",
       "      <th>6</th>\n",
       "      <td>18</td>\n",
       "      <td>884</td>\n",
       "    </tr>\n",
       "    <tr>\n",
       "      <th>7</th>\n",
       "      <td>10</td>\n",
       "      <td>884</td>\n",
       "    </tr>\n",
       "    <tr>\n",
       "      <th>8</th>\n",
       "      <td>11</td>\n",
       "      <td>883</td>\n",
       "    </tr>\n",
       "    <tr>\n",
       "      <th>9</th>\n",
       "      <td>9</td>\n",
       "      <td>878</td>\n",
       "    </tr>\n",
       "    <tr>\n",
       "      <th>10</th>\n",
       "      <td>19</td>\n",
       "      <td>878</td>\n",
       "    </tr>\n",
       "    <tr>\n",
       "      <th>11</th>\n",
       "      <td>8</td>\n",
       "      <td>870</td>\n",
       "    </tr>\n",
       "    <tr>\n",
       "      <th>12</th>\n",
       "      <td>20</td>\n",
       "      <td>864</td>\n",
       "    </tr>\n",
       "    <tr>\n",
       "      <th>13</th>\n",
       "      <td>21</td>\n",
       "      <td>858</td>\n",
       "    </tr>\n",
       "    <tr>\n",
       "      <th>14</th>\n",
       "      <td>22</td>\n",
       "      <td>837</td>\n",
       "    </tr>\n",
       "    <tr>\n",
       "      <th>15</th>\n",
       "      <td>7</td>\n",
       "      <td>806</td>\n",
       "    </tr>\n",
       "    <tr>\n",
       "      <th>16</th>\n",
       "      <td>23</td>\n",
       "      <td>776</td>\n",
       "    </tr>\n",
       "    <tr>\n",
       "      <th>17</th>\n",
       "      <td>0</td>\n",
       "      <td>726</td>\n",
       "    </tr>\n",
       "    <tr>\n",
       "      <th>18</th>\n",
       "      <td>6</td>\n",
       "      <td>679</td>\n",
       "    </tr>\n",
       "    <tr>\n",
       "      <th>19</th>\n",
       "      <td>1</td>\n",
       "      <td>587</td>\n",
       "    </tr>\n",
       "    <tr>\n",
       "      <th>20</th>\n",
       "      <td>2</td>\n",
       "      <td>553</td>\n",
       "    </tr>\n",
       "    <tr>\n",
       "      <th>21</th>\n",
       "      <td>5</td>\n",
       "      <td>338</td>\n",
       "    </tr>\n",
       "    <tr>\n",
       "      <th>22</th>\n",
       "      <td>4</td>\n",
       "      <td>325</td>\n",
       "    </tr>\n",
       "    <tr>\n",
       "      <th>23</th>\n",
       "      <td>3</td>\n",
       "      <td>287</td>\n",
       "    </tr>\n",
       "  </tbody>\n",
       "</table>\n",
       "</div>"
      ],
      "text/plain": [
       "    hours  count\n",
       "0      16    892\n",
       "1      15    890\n",
       "2      13    889\n",
       "3      17    889\n",
       "4      12    888\n",
       "5      14    886\n",
       "6      18    884\n",
       "7      10    884\n",
       "8      11    883\n",
       "9       9    878\n",
       "10     19    878\n",
       "11      8    870\n",
       "12     20    864\n",
       "13     21    858\n",
       "14     22    837\n",
       "15      7    806\n",
       "16     23    776\n",
       "17      0    726\n",
       "18      6    679\n",
       "19      1    587\n",
       "20      2    553\n",
       "21      5    338\n",
       "22      4    325\n",
       "23      3    287"
      ]
     },
     "execution_count": 106,
     "metadata": {},
     "output_type": "execute_result"
    }
   ],
   "source": [
    "df_hour"
   ]
  },
  {
   "cell_type": "code",
   "execution_count": 111,
   "id": "5dc8ced1",
   "metadata": {
    "scrolled": true
   },
   "outputs": [
    {
     "data": {
      "text/html": [
       "<div>\n",
       "<style scoped>\n",
       "    .dataframe tbody tr th:only-of-type {\n",
       "        vertical-align: middle;\n",
       "    }\n",
       "\n",
       "    .dataframe tbody tr th {\n",
       "        vertical-align: top;\n",
       "    }\n",
       "\n",
       "    .dataframe thead th {\n",
       "        text-align: right;\n",
       "    }\n",
       "</style>\n",
       "<table border=\"1\" class=\"dataframe\">\n",
       "  <thead>\n",
       "    <tr style=\"text-align: right;\">\n",
       "      <th></th>\n",
       "      <th>hours</th>\n",
       "      <th>count</th>\n",
       "    </tr>\n",
       "  </thead>\n",
       "  <tbody>\n",
       "    <tr>\n",
       "      <th>0</th>\n",
       "      <td>16</td>\n",
       "      <td>892</td>\n",
       "    </tr>\n",
       "  </tbody>\n",
       "</table>\n",
       "</div>"
      ],
      "text/plain": [
       "   hours  count\n",
       "0     16    892"
      ]
     },
     "execution_count": 111,
     "metadata": {},
     "output_type": "execute_result"
    }
   ],
   "source": [
    "# At 4:00 pm the demand frequency is highest \n",
    "df_hour[df_hour['count'].max()==df_hour['count']]"
   ]
  },
  {
   "cell_type": "code",
   "execution_count": 112,
   "id": "b2f4f289",
   "metadata": {
    "scrolled": true
   },
   "outputs": [
    {
     "data": {
      "text/html": [
       "<div>\n",
       "<style scoped>\n",
       "    .dataframe tbody tr th:only-of-type {\n",
       "        vertical-align: middle;\n",
       "    }\n",
       "\n",
       "    .dataframe tbody tr th {\n",
       "        vertical-align: top;\n",
       "    }\n",
       "\n",
       "    .dataframe thead th {\n",
       "        text-align: right;\n",
       "    }\n",
       "</style>\n",
       "<table border=\"1\" class=\"dataframe\">\n",
       "  <thead>\n",
       "    <tr style=\"text-align: right;\">\n",
       "      <th></th>\n",
       "      <th>hours</th>\n",
       "      <th>count</th>\n",
       "    </tr>\n",
       "  </thead>\n",
       "  <tbody>\n",
       "    <tr>\n",
       "      <th>23</th>\n",
       "      <td>3</td>\n",
       "      <td>287</td>\n",
       "    </tr>\n",
       "  </tbody>\n",
       "</table>\n",
       "</div>"
      ],
      "text/plain": [
       "    hours  count\n",
       "23      3    287"
      ]
     },
     "execution_count": 112,
     "metadata": {},
     "output_type": "execute_result"
    }
   ],
   "source": [
    "# At 3:00 am the demand frequency is least\n",
    "df_hour[df_hour['count'].min()==df_hour['count']]"
   ]
  },
  {
   "cell_type": "code",
   "execution_count": 113,
   "id": "dccb4693",
   "metadata": {},
   "outputs": [
    {
     "data": {
      "text/plain": [
       "<AxesSubplot:xlabel='hours', ylabel='count'>"
      ]
     },
     "execution_count": 113,
     "metadata": {},
     "output_type": "execute_result"
    },
    {
     "data": {
      "image/png": "[encoded data removed]",
      "text/plain": [
       "<Figure size 432x288 with 1 Axes>"
      ]
     },
     "metadata": {},
     "output_type": "display_data"
    }
   ],
   "source": [
    "# frequency of different hours in the data\n",
    "# Data seems to be imbalanced among the early morning hours of 12:00 am to 6:00 am\n",
    "sns.barplot(data=df_hour,x='hours',y='count')"
   ]
  },
  {
   "cell_type": "code",
   "execution_count": 114,
   "id": "32bbd061",
   "metadata": {},
   "outputs": [],
   "source": [
    "# Different days and hours with aggregated demand\n",
    "df_day_hours=df.groupby(['hour','weekday'])['demand'].sum()"
   ]
  },
  {
   "cell_type": "code",
   "execution_count": 117,
   "id": "0a57a922",
   "metadata": {
    "scrolled": true
   },
   "outputs": [
    {
     "data": {
      "text/plain": [
       "hour  weekday\n",
       "0     0          6052\n",
       "      1          4834\n",
       "      2          5240\n",
       "      3          5139\n",
       "      4          6308\n",
       "      5          7033\n",
       "      6          7586\n",
       "1     0          3823\n",
       "      1          3238\n",
       "      2          3186\n",
       "      3          3290\n",
       "      4          4985\n",
       "      5          6418\n",
       "      6          7368\n",
       "2     0          2737\n",
       "Name: demand, dtype: int64"
      ]
     },
     "execution_count": 117,
     "metadata": {},
     "output_type": "execute_result"
    }
   ],
   "source": [
    "df_day_hours.head(15)"
   ]
  },
  {
   "cell_type": "code",
   "execution_count": 132,
   "id": "98312f51",
   "metadata": {},
   "outputs": [
    {
     "data": {
      "text/plain": [
       "<AxesSubplot:xlabel='hour', ylabel='demand'>"
      ]
     },
     "execution_count": 132,
     "metadata": {},
     "output_type": "execute_result"
    },
    {
     "data": {
      "image/png": "[encoded data removed]",
      "text/plain": [
       "<Figure size 432x288 with 1 Axes>"
      ]
     },
     "metadata": {},
     "output_type": "display_data"
    }
   ],
   "source": [
    "# Demand with repect to both Week day and time\n",
    "# The demand is highest between 12:00 pm to 16:00 pm on Saturday, followed by Sunday and Friday \n",
    "sns.set_theme(style=\"whitegrid\")\n",
    "sns.scatterplot(data=df_day_hours.reset_index(),x='hour',y='demand',hue='weekday',palette='rainbow')"
   ]
  },
  {
   "cell_type": "markdown",
   "id": "28a90174",
   "metadata": {},
   "source": [
    "## Model 1: Decision Tree Regressor"
   ]
  },
  {
   "cell_type": "code",
   "execution_count": 162,
   "id": "9644d7bb",
   "metadata": {},
   "outputs": [],
   "source": [
    "# features and target\n",
    "X=df[['hour', 'weekday', 'month', 'year', 'week']]\n",
    "y=df['demand']"
   ]
  },
  {
   "cell_type": "code",
   "execution_count": 163,
   "id": "33736b9c",
   "metadata": {},
   "outputs": [],
   "source": [
    "car_model = DecisionTreeRegressor()"
   ]
  },
  {
   "cell_type": "code",
   "execution_count": 164,
   "id": "a6b785fd",
   "metadata": {},
   "outputs": [],
   "source": [
    "train_X, val_X, train_y, val_y = train_test_split(X,y,random_state=1,)"
   ]
  },
  {
   "cell_type": "code",
   "execution_count": 165,
   "id": "26277df5",
   "metadata": {},
   "outputs": [
    {
     "data": {
      "text/plain": [
       "DecisionTreeRegressor()"
      ]
     },
     "execution_count": 165,
     "metadata": {},
     "output_type": "execute_result"
    }
   ],
   "source": [
    "car_model.fit(train_X,train_y,)"
   ]
  },
  {
   "cell_type": "code",
   "execution_count": 166,
   "id": "6d657398",
   "metadata": {},
   "outputs": [],
   "source": [
    "val_predictions =car_model.predict(val_X)\n"
   ]
  },
  {
   "cell_type": "code",
   "execution_count": 167,
   "id": "f6253369",
   "metadata": {},
   "outputs": [
    {
     "name": "stdout",
     "output_type": "stream",
     "text": [
      "[59. 45. 81. 72. 62.]\n",
      "4933    44\n",
      "8079    87\n",
      "8881    25\n",
      "2069    25\n",
      "5179    37\n",
      "Name: demand, dtype: int64\n"
     ]
    }
   ],
   "source": [
    "print(val_predictions[:5])\n",
    "print(val_y[:5])"
   ]
  },
  {
   "cell_type": "code",
   "execution_count": 168,
   "id": "62f1cf62",
   "metadata": {},
   "outputs": [],
   "source": [
    "from sklearn.metrics import mean_squared_error\n",
    "\n",
    "rms = mean_squared_error(val_y,val_predictions,  squared=False)"
   ]
  },
  {
   "cell_type": "code",
   "execution_count": 169,
   "id": "f9b59d41",
   "metadata": {
    "scrolled": false
   },
   "outputs": [
    {
     "data": {
      "text/plain": [
       "45.1501635031119"
      ]
     },
     "execution_count": 169,
     "metadata": {},
     "output_type": "execute_result"
    }
   ],
   "source": [
    "rms"
   ]
  },
  {
   "cell_type": "markdown",
   "id": "8ea7f415",
   "metadata": {},
   "source": [
    "## Model 2: Random Forest Regressor"
   ]
  },
  {
   "cell_type": "code",
   "execution_count": 201,
   "id": "8ac43c3b",
   "metadata": {},
   "outputs": [
    {
     "data": {
      "text/plain": [
       "RandomForestRegressor(random_state=0)"
      ]
     },
     "execution_count": 201,
     "metadata": {},
     "output_type": "execute_result"
    }
   ],
   "source": [
    "from sklearn.ensemble import RandomForestRegressor\n",
    "\n",
    "regr = RandomForestRegressor(random_state=0,n_estimators=100)\n",
    "regr.fit(train_X,train_y)\n"
   ]
  },
  {
   "cell_type": "code",
   "execution_count": 202,
   "id": "83b4ab40",
   "metadata": {},
   "outputs": [],
   "source": [
    "val_predictions=regr.predict(val_X)"
   ]
  },
  {
   "cell_type": "code",
   "execution_count": 203,
   "id": "efa33f6b",
   "metadata": {},
   "outputs": [],
   "source": [
    "rms = mean_squared_error(val_y,val_predictions,  squared=False)"
   ]
  },
  {
   "cell_type": "code",
   "execution_count": 204,
   "id": "a0253a4d",
   "metadata": {
    "scrolled": false
   },
   "outputs": [
    {
     "data": {
      "text/plain": [
       "34.07537664068784"
      ]
     },
     "execution_count": 204,
     "metadata": {},
     "output_type": "execute_result"
    }
   ],
   "source": [
    "rms"
   ]
  },
  {
   "cell_type": "markdown",
   "id": "bfb7e84c",
   "metadata": {},
   "source": [
    "## Hypertuning Random Forest"
   ]
  },
  {
   "cell_type": "code",
   "execution_count": 207,
   "id": "80539a0c",
   "metadata": {
    "scrolled": true
   },
   "outputs": [
    {
     "name": "stdout",
     "output_type": "stream",
     "text": [
      "{'bootstrap': [True, False],\n",
      " 'max_depth': [10, 20, 30, 40, 50, 60, 70, 80, 90, 100, 110, None],\n",
      " 'max_features': ['auto', 'sqrt'],\n",
      " 'min_samples_leaf': [1, 2, 4],\n",
      " 'min_samples_split': [2, 5, 10],\n",
      " 'n_estimators': [200, 400, 600, 800, 1000, 1200, 1400, 1600, 1800, 2000]}\n"
     ]
    },
    {
     "data": {
      "text/plain": [
       "{'bootstrap': [True, False],\n",
       " 'max_depth': [10, 20, 30, 40, 50, 60, 70, 80, 90, 100, None],\n",
       " 'max_features': ['auto', 'sqrt'],\n",
       " 'min_samples_leaf': [1, 2, 4],\n",
       " 'min_samples_split': [2, 5, 10],\n",
       " 'n_estimators': [200, 400, 600, 800, 1000, 1200, 1400, 1600, 1800, 2000]}"
      ]
     },
     "execution_count": 207,
     "metadata": {},
     "output_type": "execute_result"
    }
   ],
   "source": [
    "from pprint import pprint\n",
    "from sklearn.model_selection import RandomizedSearchCV\n",
    "# Number of trees in random forest\n",
    "n_estimators = [int(x) for x in np.linspace(start = 200, stop = 2000, num = 10)]\n",
    "# Number of features to consider at every split\n",
    "max_features = ['auto', 'sqrt']\n",
    "# Maximum number of levels in tree\n",
    "max_depth = [int(x) for x in np.linspace(10, 110, num = 11)]\n",
    "max_depth.append(None)\n",
    "# Minimum number of samples required to split a node\n",
    "min_samples_split = [2, 5, 10]\n",
    "# Minimum number of samples required at each leaf node\n",
    "min_samples_leaf = [1, 2, 4]\n",
    "# Method of selecting samples for training each tree\n",
    "bootstrap = [True, False]\n",
    "# Create the random grid\n",
    "random_grid = {'n_estimators': n_estimators,\n",
    "               'max_features': max_features,\n",
    "               'max_depth': max_depth,\n",
    "               'min_samples_split': min_samples_split,\n",
    "               'min_samples_leaf': min_samples_leaf,\n",
    "               'bootstrap': bootstrap}\n",
    "pprint(random_grid)\n",
    "{'bootstrap': [True, False],\n",
    " 'max_depth': [10, 20, 30, 40, 50, 60, 70, 80, 90, 100, None],\n",
    " 'max_features': ['auto', 'sqrt'],\n",
    " 'min_samples_leaf': [1, 2, 4],\n",
    " 'min_samples_split': [2, 5, 10],\n",
    " 'n_estimators': [200, 400, 600, 800, 1000, 1200, 1400, 1600, 1800, 2000]}"
   ]
  },
  {
   "cell_type": "code",
   "execution_count": 209,
   "id": "95648833",
   "metadata": {
    "scrolled": true
   },
   "outputs": [
    {
     "name": "stdout",
     "output_type": "stream",
     "text": [
      "Fitting 3 folds for each of 100 candidates, totalling 300 fits\n"
     ]
    },
    {
     "data": {
      "text/plain": [
       "RandomizedSearchCV(cv=3, estimator=RandomForestRegressor(), n_iter=100,\n",
       "                   n_jobs=-1,\n",
       "                   param_distributions={'bootstrap': [True, False],\n",
       "                                        'max_depth': [10, 20, 30, 40, 50, 60,\n",
       "                                                      70, 80, 90, 100, 110,\n",
       "                                                      None],\n",
       "                                        'max_features': ['auto', 'sqrt'],\n",
       "                                        'min_samples_leaf': [1, 2, 4],\n",
       "                                        'min_samples_split': [2, 5, 10],\n",
       "                                        'n_estimators': [200, 400, 600, 800,\n",
       "                                                         1000, 1200, 1400, 1600,\n",
       "                                                         1800, 2000]},\n",
       "                   random_state=42, verbose=2)"
      ]
     },
     "execution_count": 209,
     "metadata": {},
     "output_type": "execute_result"
    }
   ],
   "source": [
    "# Use the random grid to search for best hyperparameters\n",
    "# First create the base model to tune\n",
    "rf = RandomForestRegressor()\n",
    "# Random search of parameters, using 3 fold cross validation, \n",
    "# search across 100 different combinations, and use all available cores\n",
    "rf_random = RandomizedSearchCV(estimator = rf, param_distributions = random_grid, n_iter = 100, cv = 3, verbose=2, random_state=42, n_jobs = -1)\n",
    "# Fit the random search model\n",
    "rf_random.fit(train_X,train_y)"
   ]
  },
  {
   "cell_type": "code",
   "execution_count": 213,
   "id": "571f501a",
   "metadata": {},
   "outputs": [],
   "source": [
    "val_predictions=rf_random.predict(val_X)"
   ]
  },
  {
   "cell_type": "code",
   "execution_count": 214,
   "id": "3e0c9b90",
   "metadata": {},
   "outputs": [],
   "source": [
    "rms = mean_squared_error(val_y,val_predictions,  squared=False)"
   ]
  },
  {
   "cell_type": "code",
   "execution_count": 215,
   "id": "66397ca4",
   "metadata": {},
   "outputs": [
    {
     "data": {
      "text/plain": [
       "32.57150230280633"
      ]
     },
     "execution_count": 215,
     "metadata": {},
     "output_type": "execute_result"
    }
   ],
   "source": [
    "rms"
   ]
  },
  {
   "cell_type": "markdown",
   "id": "2aa1ddaf",
   "metadata": {},
   "source": [
    "## Model 3 Artificial Neural Network"
   ]
  },
  {
   "cell_type": "code",
   "execution_count": 483,
   "id": "c8feb58d",
   "metadata": {
    "scrolled": true
   },
   "outputs": [],
   "source": [
    "X=np.array(X).reshape(-1,5)\n",
    "y=np.array(y).reshape(-1, 1)"
   ]
  },
  {
   "cell_type": "code",
   "execution_count": 484,
   "id": "da07ee66",
   "metadata": {},
   "outputs": [],
   "source": [
    "from sklearn.preprocessing import StandardScaler\n",
    "sc = StandardScaler()\n",
    "sc1 = StandardScaler()\n",
    "X = sc.fit_transform(X)\n",
    "y = sc1.fit_transform(np.array(y).reshape(-1, 1))"
   ]
  },
  {
   "cell_type": "code",
   "execution_count": 485,
   "id": "578a9ece",
   "metadata": {},
   "outputs": [],
   "source": [
    "X_train, X_test, y_train, y_test = train_test_split(X, y, test_size=0.3, random_state=42)"
   ]
  },
  {
   "cell_type": "code",
   "execution_count": 486,
   "id": "0b1f9a32",
   "metadata": {
    "scrolled": true
   },
   "outputs": [],
   "source": [
    "import tensorflow.keras.optimizers as opt\n",
    "from tensorflow.keras.models import Sequential\n",
    "from tensorflow.keras.layers import Dense,Dropout\n",
    "from tensorflow.keras.metrics import RootMeanSquaredError\n",
    "\n",
    "model = Sequential()\n",
    "model.add(Dense(200,input_dim=5, activation='relu',kernel_initializer = 'he_normal'))\n",
    "model.add(Dropout(0.3))\n",
    "model.add(Dense(100,activation='relu'))\n",
    "model.add(Dropout(0.2))\n",
    "model.add(Dense(50,activation='relu'))\n",
    "model.add(Dropout(0.1))\n",
    "model.add(Dense(20,activation='relu'))\n",
    "model.add(Dropout(0.1))\n",
    "model.add(Dense(1))\n",
    "\n",
    "\n"
   ]
  },
  {
   "cell_type": "code",
   "execution_count": 487,
   "id": "e35ba6f6",
   "metadata": {},
   "outputs": [
    {
     "name": "stdout",
     "output_type": "stream",
     "text": [
      "Model: \"sequential_24\"\n",
      "_________________________________________________________________\n",
      "Layer (type)                 Output Shape              Param #   \n",
      "=================================================================\n",
      "dense_102 (Dense)            (None, 200)               1200      \n",
      "_________________________________________________________________\n",
      "dropout_60 (Dropout)         (None, 200)               0         \n",
      "_________________________________________________________________\n",
      "dense_103 (Dense)            (None, 100)               20100     \n",
      "_________________________________________________________________\n",
      "dropout_61 (Dropout)         (None, 100)               0         \n",
      "_________________________________________________________________\n",
      "dense_104 (Dense)            (None, 50)                5050      \n",
      "_________________________________________________________________\n",
      "dropout_62 (Dropout)         (None, 50)                0         \n",
      "_________________________________________________________________\n",
      "dense_105 (Dense)            (None, 20)                1020      \n",
      "_________________________________________________________________\n",
      "dropout_63 (Dropout)         (None, 20)                0         \n",
      "_________________________________________________________________\n",
      "dense_106 (Dense)            (None, 1)                 21        \n",
      "=================================================================\n",
      "Total params: 27,391\n",
      "Trainable params: 27,391\n",
      "Non-trainable params: 0\n",
      "_________________________________________________________________\n"
     ]
    }
   ],
   "source": [
    "model.summary()"
   ]
  },
  {
   "cell_type": "code",
   "execution_count": 488,
   "id": "27d9fcb8",
   "metadata": {},
   "outputs": [],
   "source": [
    "lr_schedule = opt.schedules.ExponentialDecay(\n",
    "    initial_learning_rate=1e-1,\n",
    "    decay_steps=10000,\n",
    "    decay_rate=0.9)\n",
    "\n",
    "adm  = opt.Adam(learning_rate=lr_schedule)"
   ]
  },
  {
   "cell_type": "code",
   "execution_count": 489,
   "id": "571fda35",
   "metadata": {},
   "outputs": [],
   "source": [
    "# Both loss and metric are set to Mean Squared Error\n",
    "model.compile(loss='mse',optimizer='adam',metrics=[RootMeanSquaredError()])\n"
   ]
  },
  {
   "cell_type": "code",
   "execution_count": 490,
   "id": "7166ba11",
   "metadata": {},
   "outputs": [],
   "source": [
    "# Setting model checkpoints for early stopping and saving the best model \n",
    "from tensorflow.keras.callbacks import EarlyStopping,ModelCheckpoint\n",
    "early_stop = EarlyStopping(monitor='val_loss',mode='min',verbose=1,patience=10)\n",
    "model_checkpoint = ModelCheckpoint(\n",
    "                   'Deep_learning_model_2.h5', save_best_only=True)"
   ]
  },
  {
   "cell_type": "code",
   "execution_count": 491,
   "id": "dae4cbe2",
   "metadata": {
    "scrolled": false
   },
   "outputs": [
    {
     "name": "stdout",
     "output_type": "stream",
     "text": [
      "Epoch 1/200\n",
      "320/320 [==============================] - 1s 2ms/step - loss: 0.9779 - root_mean_squared_error: 0.9889 - val_loss: 0.9488 - val_root_mean_squared_error: 0.9740\n",
      "Epoch 2/200\n",
      "320/320 [==============================] - 1s 2ms/step - loss: 0.9115 - root_mean_squared_error: 0.9547 - val_loss: 0.9030 - val_root_mean_squared_error: 0.9503\n",
      "Epoch 3/200\n",
      "320/320 [==============================] - 1s 2ms/step - loss: 0.8871 - root_mean_squared_error: 0.9419 - val_loss: 0.8963 - val_root_mean_squared_error: 0.9467\n",
      "Epoch 4/200\n",
      "320/320 [==============================] - 1s 2ms/step - loss: 0.8660 - root_mean_squared_error: 0.9306 - val_loss: 0.8820 - val_root_mean_squared_error: 0.9392\n",
      "Epoch 5/200\n",
      "320/320 [==============================] - 1s 2ms/step - loss: 0.8534 - root_mean_squared_error: 0.9238 - val_loss: 0.8574 - val_root_mean_squared_error: 0.9260\n",
      "Epoch 6/200\n",
      "320/320 [==============================] - 1s 2ms/step - loss: 0.8491 - root_mean_squared_error: 0.9215 - val_loss: 0.8586 - val_root_mean_squared_error: 0.9266\n",
      "Epoch 7/200\n",
      "320/320 [==============================] - 1s 2ms/step - loss: 0.8337 - root_mean_squared_error: 0.9131 - val_loss: 0.8378 - val_root_mean_squared_error: 0.9153\n",
      "Epoch 8/200\n",
      "320/320 [==============================] - 1s 2ms/step - loss: 0.8414 - root_mean_squared_error: 0.9173 - val_loss: 0.8432 - val_root_mean_squared_error: 0.9183\n",
      "Epoch 9/200\n",
      "320/320 [==============================] - 1s 2ms/step - loss: 0.8272 - root_mean_squared_error: 0.9095 - val_loss: 0.8543 - val_root_mean_squared_error: 0.9243\n",
      "Epoch 10/200\n",
      "320/320 [==============================] - 1s 2ms/step - loss: 0.8341 - root_mean_squared_error: 0.9133 - val_loss: 0.8578 - val_root_mean_squared_error: 0.9262\n",
      "Epoch 11/200\n",
      "320/320 [==============================] - 1s 2ms/step - loss: 0.8254 - root_mean_squared_error: 0.9085 - val_loss: 0.8462 - val_root_mean_squared_error: 0.9199\n",
      "Epoch 12/200\n",
      "320/320 [==============================] - 1s 2ms/step - loss: 0.8208 - root_mean_squared_error: 0.9060 - val_loss: 0.8329 - val_root_mean_squared_error: 0.9126\n",
      "Epoch 13/200\n",
      "320/320 [==============================] - 1s 2ms/step - loss: 0.8236 - root_mean_squared_error: 0.9075 - val_loss: 0.8514 - val_root_mean_squared_error: 0.9227\n",
      "Epoch 14/200\n",
      "320/320 [==============================] - 1s 2ms/step - loss: 0.8166 - root_mean_squared_error: 0.9036 - val_loss: 0.8505 - val_root_mean_squared_error: 0.9222\n",
      "Epoch 15/200\n",
      "320/320 [==============================] - 1s 2ms/step - loss: 0.8152 - root_mean_squared_error: 0.9029 - val_loss: 0.8418 - val_root_mean_squared_error: 0.9175\n",
      "Epoch 16/200\n",
      "320/320 [==============================] - 1s 2ms/step - loss: 0.8175 - root_mean_squared_error: 0.9041 - val_loss: 0.8197 - val_root_mean_squared_error: 0.9054\n",
      "Epoch 17/200\n",
      "320/320 [==============================] - 1s 2ms/step - loss: 0.8088 - root_mean_squared_error: 0.8993 - val_loss: 0.8346 - val_root_mean_squared_error: 0.9136\n",
      "Epoch 18/200\n",
      "320/320 [==============================] - 1s 2ms/step - loss: 0.8102 - root_mean_squared_error: 0.9001 - val_loss: 0.8418 - val_root_mean_squared_error: 0.9175\n",
      "Epoch 19/200\n",
      "320/320 [==============================] - 1s 2ms/step - loss: 0.8119 - root_mean_squared_error: 0.9011 - val_loss: 0.8271 - val_root_mean_squared_error: 0.9094\n",
      "Epoch 20/200\n",
      "320/320 [==============================] - 1s 2ms/step - loss: 0.8114 - root_mean_squared_error: 0.9008 - val_loss: 0.8319 - val_root_mean_squared_error: 0.9121\n",
      "Epoch 21/200\n",
      "320/320 [==============================] - 1s 2ms/step - loss: 0.8072 - root_mean_squared_error: 0.8985 - val_loss: 0.8238 - val_root_mean_squared_error: 0.9076\n",
      "Epoch 22/200\n",
      "320/320 [==============================] - 1s 2ms/step - loss: 0.7999 - root_mean_squared_error: 0.8944 - val_loss: 0.8300 - val_root_mean_squared_error: 0.9111\n",
      "Epoch 23/200\n",
      "320/320 [==============================] - 1s 2ms/step - loss: 0.8038 - root_mean_squared_error: 0.8966 - val_loss: 0.8349 - val_root_mean_squared_error: 0.9137\n",
      "Epoch 24/200\n",
      "320/320 [==============================] - 1s 2ms/step - loss: 0.7995 - root_mean_squared_error: 0.8942 - val_loss: 0.8330 - val_root_mean_squared_error: 0.9127\n",
      "Epoch 25/200\n",
      "320/320 [==============================] - 1s 2ms/step - loss: 0.7964 - root_mean_squared_error: 0.8924 - val_loss: 0.8259 - val_root_mean_squared_error: 0.9088\n",
      "Epoch 26/200\n",
      "320/320 [==============================] - 1s 2ms/step - loss: 0.7964 - root_mean_squared_error: 0.8924 - val_loss: 0.8279 - val_root_mean_squared_error: 0.9099\n",
      "Epoch 00026: early stopping\n"
     ]
    }
   ],
   "source": [
    "history=model.fit(x=X_train,y=y_train,epochs=200,validation_split=0.2,callbacks=[early_stop,model_checkpoint])"
   ]
  },
  {
   "cell_type": "code",
   "execution_count": 492,
   "id": "7f12cc00",
   "metadata": {
    "scrolled": true
   },
   "outputs": [
    {
     "data": {
      "image/png": "[encoded data removed]",
      "text/plain": [
       "<Figure size 432x288 with 1 Axes>"
      ]
     },
     "metadata": {},
     "output_type": "display_data"
    }
   ],
   "source": [
    "import matplotlib.pyplot as plt\n",
    "plt.plot(history.history['loss'])\n",
    "plt.plot(history.history['val_loss']) \n",
    "plt.title('Model loss') \n",
    "plt.ylabel('Loss') \n",
    "plt.xlabel('Epoch') \n",
    "plt.legend(['Train','Validation'], loc='upper right') \n",
    "plt.show()"
   ]
  },
  {
   "cell_type": "code",
   "execution_count": 500,
   "id": "3dd01ba9",
   "metadata": {},
   "outputs": [
    {
     "name": "stdout",
     "output_type": "stream",
     "text": [
      "RMSE of demand of cars using Deep Learning Model: 0.876\n"
     ]
    }
   ],
   "source": [
    "from sklearn.metrics import mean_squared_error\n",
    "from math import sqrt\n",
    "\n",
    "transformed_forecast = model.predict(X_test)\n",
    "forecast = sc1.inverse_transform(transformed_forecast)\n",
    "y_test_inv = sc1.inverse_transform(y_test)\n",
    "\n",
    "\n",
    "\n",
    "rmse  = sqrt(mean_squared_error(y_test_inv,forecast))\n",
    "print('RMSE of demand of cars using Deep Learning Model: {}'\n",
    "      .format(round(rmse, 3)))\n"
   ]
  },
  {
   "cell_type": "markdown",
   "id": "1e597eda",
   "metadata": {},
   "source": [
    "## Prediction on Test data"
   ]
  },
  {
   "cell_type": "code",
   "execution_count": 428,
   "id": "4fc1fe2e",
   "metadata": {},
   "outputs": [
    {
     "name": "stdout",
     "output_type": "stream",
     "text": [
      "<class 'pandas.core.frame.DataFrame'>\n",
      "RangeIndex: 7650 entries, 0 to 7649\n",
      "Data columns (total 2 columns):\n",
      " #   Column  Non-Null Count  Dtype \n",
      "---  ------  --------------  ----- \n",
      " 0   date    7650 non-null   object\n",
      " 1   hour    7650 non-null   int64 \n",
      "dtypes: int64(1), object(1)\n",
      "memory usage: 119.7+ KB\n"
     ]
    }
   ],
   "source": [
    "# on test data\n",
    "df_test=pd.read_csv('test_6QvDdzb.csv')\n",
    "df_test.info()\n"
   ]
  },
  {
   "cell_type": "code",
   "execution_count": 430,
   "id": "2d15c644",
   "metadata": {},
   "outputs": [],
   "source": [
    "df_test['weekday']=pd.to_datetime(df_test['date'],format = '%Y-%m-%d').dt.weekday\n",
    "df_test['month']=pd.to_datetime(df_test['date'],format = '%Y-%m-%d').dt.month\n",
    "df_test['year']=pd.to_datetime(df_test['date'],format = '%Y-%m-%d').dt.year\n",
    "df_test['week']=pd.to_datetime(df_test['date'],format = '%Y-%m-%d').dt.week"
   ]
  },
  {
   "cell_type": "code",
   "execution_count": 431,
   "id": "d82d1c97",
   "metadata": {},
   "outputs": [],
   "source": [
    "X_test = df_test[['hour', 'weekday', 'month', 'year', 'week']]"
   ]
  },
  {
   "cell_type": "code",
   "execution_count": 432,
   "id": "cb916e01",
   "metadata": {},
   "outputs": [],
   "source": [
    "test_predictions=rf_random.predict(X_test)"
   ]
  },
  {
   "cell_type": "code",
   "execution_count": 453,
   "id": "64dcdc0f",
   "metadata": {},
   "outputs": [
    {
     "data": {
      "text/plain": [
       "array([57.38723522, 44.23794172, 52.13645611, ..., 70.22163265,\n",
       "       55.44459481, 64.67151186])"
      ]
     },
     "execution_count": 453,
     "metadata": {},
     "output_type": "execute_result"
    }
   ],
   "source": [
    "test_predictions"
   ]
  },
  {
   "cell_type": "code",
   "execution_count": 463,
   "id": "cb4f5681",
   "metadata": {},
   "outputs": [],
   "source": [
    "re=map(round,test_predictions)"
   ]
  },
  {
   "cell_type": "code",
   "execution_count": 464,
   "id": "64f0ad07",
   "metadata": {},
   "outputs": [],
   "source": [
    "test_demands=list(re)"
   ]
  },
  {
   "cell_type": "code",
   "execution_count": 465,
   "id": "bd4c2cf4",
   "metadata": {},
   "outputs": [],
   "source": [
    "df_test_fin=df_test[['date','hour']]"
   ]
  },
  {
   "cell_type": "code",
   "execution_count": 468,
   "id": "27c42809",
   "metadata": {},
   "outputs": [],
   "source": [
    "df_test_fin['demand']=test_demands"
   ]
  },
  {
   "cell_type": "code",
   "execution_count": 470,
   "id": "1d260bf9",
   "metadata": {},
   "outputs": [],
   "source": [
    "df_test_fin.to_csv(\"Vasanth_submission.csv\",index=False)"
   ]
  }
 ],
 "metadata": {
  "kernelspec": {
   "display_name": "Python 3",
   "language": "python",
   "name": "python3"
  },
  "language_info": {
   "codemirror_mode": {
    "name": "ipython",
    "version": 3
   },
   "file_extension": ".py",
   "mimetype": "text/x-python",
   "name": "python",
   "nbconvert_exporter": "python",
   "pygments_lexer": "ipython3",
   "version": "3.9.4"
  }
 },
 "nbformat": 4,
 "nbformat_minor": 5
}
